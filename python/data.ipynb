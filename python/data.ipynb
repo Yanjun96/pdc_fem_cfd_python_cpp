{
 "cells": [
  {
   "cell_type": "code",
   "execution_count": 1,
   "id": "e7a88918-7e39-4500-b3f3-3625a6ffa5db",
   "metadata": {},
   "outputs": [],
   "source": [
    "import numpy as np"
   ]
  },
  {
   "cell_type": "code",
   "execution_count": 3,
   "id": "8b691bde-0720-4b3a-8e5f-016fb17741c3",
   "metadata": {},
   "outputs": [
    {
     "data": {
      "text/plain": [
       "array([   6,   28,  496, 8128])"
      ]
     },
     "execution_count": 3,
     "metadata": {},
     "output_type": "execute_result"
    }
   ],
   "source": [
    "np.array([6,28,496,8128])"
   ]
  },
  {
   "cell_type": "code",
   "execution_count": 4,
   "id": "10f47a15-1d0d-4e06-93c5-8f6e0afd77c6",
   "metadata": {},
   "outputs": [
    {
     "data": {
      "text/plain": [
       "array([0, 1, 2, 3, 4, 5])"
      ]
     },
     "execution_count": 4,
     "metadata": {},
     "output_type": "execute_result"
    }
   ],
   "source": [
    "np.arange(6)"
   ]
  },
  {
   "cell_type": "code",
   "execution_count": 5,
   "id": "e1004490-b5e0-4df0-af34-a4673b5be76d",
   "metadata": {},
   "outputs": [
    {
     "data": {
      "text/plain": [
       "array([0., 0., 0., 0.])"
      ]
     },
     "execution_count": 5,
     "metadata": {},
     "output_type": "execute_result"
    }
   ],
   "source": [
    "np.zeros(4)"
   ]
  },
  {
   "cell_type": "code",
   "execution_count": 6,
   "id": "73975972-99ef-4df7-a21a-f7551fdc45b1",
   "metadata": {},
   "outputs": [
    {
     "data": {
      "text/plain": [
       "array([[1., 1., 1.],\n",
       "       [1., 1., 1.]])"
      ]
     },
     "execution_count": 6,
     "metadata": {},
     "output_type": "execute_result"
    }
   ],
   "source": [
    "np.ones((2,3))"
   ]
  },
  {
   "cell_type": "code",
   "execution_count": 7,
   "id": "c7f396f4-b10e-4743-94ce-c900ffc894a7",
   "metadata": {},
   "outputs": [
    {
     "data": {
      "text/plain": [
       "array([0., 0., 0., 0.])"
      ]
     },
     "execution_count": 7,
     "metadata": {},
     "output_type": "execute_result"
    }
   ],
   "source": [
    "np.empty(4)"
   ]
  },
  {
   "cell_type": "code",
   "execution_count": 8,
   "id": "cdc2583c-e945-40d8-a9fd-d04a3d418737",
   "metadata": {},
   "outputs": [
    {
     "data": {
      "text/plain": [
       "array([1.  , 1.25, 1.5 , 1.75, 2.  ])"
      ]
     },
     "execution_count": 8,
     "metadata": {},
     "output_type": "execute_result"
    }
   ],
   "source": [
    "np.linspace(1,2,5)"
   ]
  },
  {
   "cell_type": "code",
   "execution_count": 9,
   "id": "5889ff28-9faa-4294-9577-8ba43b63c2f4",
   "metadata": {},
   "outputs": [
    {
     "data": {
      "text/plain": [
       "array([10. ,  1. ,  0.1])"
      ]
     },
     "execution_count": 9,
     "metadata": {},
     "output_type": "execute_result"
    }
   ],
   "source": [
    "np.logspace(1,-1,3)"
   ]
  },
  {
   "cell_type": "code",
   "execution_count": 10,
   "id": "f555291c-715f-4f7e-911a-19ec640c0714",
   "metadata": {},
   "outputs": [],
   "source": [
    "c = np.logspace(1,-1,3)"
   ]
  },
  {
   "cell_type": "code",
   "execution_count": 11,
   "id": "ab9984f3-b342-4bd5-8d12-1761a403b9d8",
   "metadata": {},
   "outputs": [],
   "source": [
    "a = np.arange(8)"
   ]
  },
  {
   "cell_type": "code",
   "execution_count": 12,
   "id": "acd18b34-d2f7-4d5c-9864-6495d87cfd5d",
   "metadata": {},
   "outputs": [
    {
     "data": {
      "text/plain": [
       "array([7, 6, 5, 4, 3, 2, 1, 0])"
      ]
     },
     "execution_count": 12,
     "metadata": {},
     "output_type": "execute_result"
    }
   ],
   "source": [
    "a[::-1]"
   ]
  },
  {
   "cell_type": "code",
   "execution_count": 13,
   "id": "670d98da-4f11-4a55-971c-cc595eafc530",
   "metadata": {},
   "outputs": [
    {
     "data": {
      "text/plain": [
       "array([2, 3, 4, 5])"
      ]
     },
     "execution_count": 13,
     "metadata": {},
     "output_type": "execute_result"
    }
   ],
   "source": [
    "a[2:6]"
   ]
  },
  {
   "cell_type": "code",
   "execution_count": 25,
   "id": "a9860baf-5256-41b0-b47e-9aedfeebdaf4",
   "metadata": {},
   "outputs": [],
   "source": [
    "a = np.arange(16)"
   ]
  },
  {
   "cell_type": "code",
   "execution_count": 15,
   "id": "c5c238a4-6c48-4ba6-b9a1-9d77f96064bc",
   "metadata": {},
   "outputs": [
    {
     "name": "stdout",
     "output_type": "stream",
     "text": [
      "[ 0  1  2  3  4  5  6  7  8  9 10 11 12 13 14 15]\n"
     ]
    }
   ],
   "source": [
    "print(a)"
   ]
  },
  {
   "cell_type": "code",
   "execution_count": 20,
   "id": "c4be678e-c6a6-4a3e-8234-bb7231663b06",
   "metadata": {},
   "outputs": [
    {
     "name": "stdout",
     "output_type": "stream",
     "text": [
      "[[ 0  1  2  3]\n",
      " [ 4  5  6  7]\n",
      " [ 8  9 10 11]\n",
      " [12 13 14 15]]\n"
     ]
    }
   ],
   "source": [
    "a.shape=(4,4)\n",
    "print(a)"
   ]
  },
  {
   "cell_type": "code",
   "execution_count": 22,
   "id": "37e75bb0-8338-4f4c-b7a1-300ba1157bf3",
   "metadata": {},
   "outputs": [
    {
     "data": {
      "text/plain": [
       "array([[ 5,  6],\n",
       "       [ 9, 10]])"
      ]
     },
     "execution_count": 22,
     "metadata": {},
     "output_type": "execute_result"
    }
   ],
   "source": [
    "a[1:3, 1:3]\n"
   ]
  },
  {
   "cell_type": "code",
   "execution_count": 28,
   "id": "dedb5e21-fa68-4b17-a8c7-cfe0f8d201d1",
   "metadata": {},
   "outputs": [
    {
     "name": "stdout",
     "output_type": "stream",
     "text": [
      "[[ 0  1  2  3  4  5  6  7]\n",
      " [ 8  9 10 11 12 13 14 15]]\n"
     ]
    }
   ],
   "source": [
    "a.shape=(2,8)\n",
    "print(a)"
   ]
  },
  {
   "cell_type": "markdown",
   "id": "65d4ac53-6ce7-4015-b464-e34fce52be98",
   "metadata": {},
   "source": [
    "loop in numpy is expensive"
   ]
  },
  {
   "cell_type": "code",
   "execution_count": 8,
   "id": "e6523e9a-0a2f-49c8-96c6-b990f8458de1",
   "metadata": {},
   "outputs": [
    {
     "name": "stdout",
     "output_type": "stream",
     "text": [
      "[[0 1]\n",
      " [2 3]]\n"
     ]
    }
   ],
   "source": [
    "a = np.arange(4)\n",
    "a.shape = (2,2)\n",
    "print(a)"
   ]
  },
  {
   "cell_type": "code",
   "execution_count": 9,
   "id": "66ef46ce-0831-4c22-ae86-d90c87d1f698",
   "metadata": {},
   "outputs": [],
   "source": [
    "b = np.array([[42], [43]])"
   ]
  },
  {
   "cell_type": "code",
   "execution_count": 10,
   "id": "df6f424b-6477-4f7d-a22e-e592b0565c14",
   "metadata": {},
   "outputs": [
    {
     "data": {
      "text/plain": [
       "array([[  0,  42],\n",
       "       [ 86, 129]])"
      ]
     },
     "execution_count": 10,
     "metadata": {},
     "output_type": "execute_result"
    }
   ],
   "source": [
    "a*b"
   ]
  },
  {
   "cell_type": "code",
   "execution_count": 11,
   "id": "c8cf208b-2caf-4ecc-bfee-c745d41955d6",
   "metadata": {},
   "outputs": [
    {
     "data": {
      "text/plain": [
       "array([[ 43],\n",
       "       [213]])"
      ]
     },
     "execution_count": 11,
     "metadata": {},
     "output_type": "execute_result"
    }
   ],
   "source": [
    "np.dot(a,b)"
   ]
  },
  {
   "cell_type": "code",
   "execution_count": 6,
   "id": "5a6172ab-0a74-4bfe-a5cf-3705edb19ced",
   "metadata": {},
   "outputs": [
    {
     "name": "stdout",
     "output_type": "stream",
     "text": [
      "[[ 0  1  2]\n",
      " [ 3  4  5]\n",
      " [ 6  7  8]\n",
      " [ 9 10 11]]\n"
     ]
    }
   ],
   "source": [
    "a = np.arange(12)\n",
    "a.shape = (4,3)\n",
    "print(a)"
   ]
  },
  {
   "cell_type": "code",
   "execution_count": 10,
   "id": "b5ba388b-23a9-48c6-b492-d254ddd3f90f",
   "metadata": {},
   "outputs": [
    {
     "name": "stdout",
     "output_type": "stream",
     "text": [
      "[16 17 18 19]\n"
     ]
    }
   ],
   "source": [
    "b = np.array([16,17,18,19])\n",
    "print(b)"
   ]
  },
  {
   "cell_type": "code",
   "execution_count": 5,
   "id": "4c66bdb3-2594-42bb-b4ac-60b1af525e5e",
   "metadata": {},
   "outputs": [
    {
     "data": {
      "text/plain": [
       "array([[16, 18, 20],\n",
       "       [19, 21, 23],\n",
       "       [22, 24, 26],\n",
       "       [25, 27, 29]])"
      ]
     },
     "execution_count": 5,
     "metadata": {},
     "output_type": "execute_result"
    }
   ],
   "source": [
    "a + b"
   ]
  },
  {
   "cell_type": "code",
   "execution_count": 11,
   "id": "41546ce8-8d31-4f75-b106-dfb1e4bd48a1",
   "metadata": {},
   "outputs": [
    {
     "name": "stdout",
     "output_type": "stream",
     "text": [
      "[[ 0  1  2  3]\n",
      " [ 4  5  6  7]\n",
      " [ 8  9 10 11]]\n"
     ]
    }
   ],
   "source": [
    "a.shape = (3,4)\n",
    "print(a)"
   ]
  },
  {
   "cell_type": "code",
   "execution_count": 12,
   "id": "82a5a798-5378-4e15-9123-5f0eb35d6e09",
   "metadata": {},
   "outputs": [
    {
     "data": {
      "text/plain": [
       "array([[16, 18, 20, 22],\n",
       "       [20, 22, 24, 26],\n",
       "       [24, 26, 28, 30]])"
      ]
     },
     "execution_count": 12,
     "metadata": {},
     "output_type": "execute_result"
    }
   ],
   "source": [
    "a + b"
   ]
  },
  {
   "cell_type": "code",
   "execution_count": 14,
   "id": "81444aa7-6dfd-4520-a903-b5ad0d761760",
   "metadata": {},
   "outputs": [
    {
     "name": "stdout",
     "output_type": "stream",
     "text": [
      "[ 1  3  9 19 33 51 73 99]\n"
     ]
    }
   ],
   "source": [
    "a = 2*np.arange(8)**2 + 1\n",
    "print(a)"
   ]
  },
  {
   "cell_type": "code",
   "execution_count": 15,
   "id": "87ff7728-7a7d-4cf9-83cf-511ed804c13a",
   "metadata": {},
   "outputs": [
    {
     "data": {
      "text/plain": [
       "array([19, 99, 99])"
      ]
     },
     "execution_count": 15,
     "metadata": {},
     "output_type": "execute_result"
    }
   ],
   "source": [
    "a[[3,-1,-1]]"
   ]
  },
  {
   "cell_type": "code",
   "execution_count": 26,
   "id": "e9d42f98-250f-4939-bd70-cb6c0639ee98",
   "metadata": {},
   "outputs": [
    {
     "data": {
      "text/plain": [
       "array([[ 9, 99],\n",
       "       [33,  9]])"
      ]
     },
     "execution_count": 26,
     "metadata": {},
     "output_type": "execute_result"
    }
   ],
   "source": [
    "a[ [[2, 7], [4, 2] ] ]\n"
   ]
  },
  {
   "cell_type": "code",
   "execution_count": 2,
   "id": "bfd72220-071b-4083-b63c-650940865a8d",
   "metadata": {},
   "outputs": [
    {
     "data": {
      "text/plain": [
       "array([-8, -3,  2,  7])"
      ]
     },
     "execution_count": 2,
     "metadata": {},
     "output_type": "execute_result"
    }
   ],
   "source": [
    "a = np.arange(16) - 8\n",
    "a.shape = (4,4)\n",
    "i = np.arange(4)\n",
    "a[i, i]"
   ]
  },
  {
   "cell_type": "code",
   "execution_count": 3,
   "id": "477e2ed5-32c6-40cb-872f-a8d10f82bc04",
   "metadata": {},
   "outputs": [
    {
     "data": {
      "text/plain": [
       "array([0, 4, 8])"
      ]
     },
     "execution_count": 3,
     "metadata": {},
     "output_type": "execute_result"
    }
   ],
   "source": [
    "a = np.arange(9)\n",
    "a.shape = (3,3)\n",
    "m = np.ones(3, dtype=bool)\n",
    "a[m,m]"
   ]
  },
  {
   "cell_type": "code",
   "execution_count": 9,
   "id": "7ede016a-99ab-4cde-90b2-9848f2a9ffa1",
   "metadata": {},
   "outputs": [
    {
     "data": {
      "text/plain": [
       "array([0, 1, 2, 3, 4])"
      ]
     },
     "execution_count": 9,
     "metadata": {},
     "output_type": "execute_result"
    }
   ],
   "source": [
    "m = (a<5)\n",
    "a[m]"
   ]
  },
  {
   "cell_type": "code",
   "execution_count": 12,
   "id": "b352c557-5221-44b7-98e0-da4be3ff7cbc",
   "metadata": {},
   "outputs": [
    {
     "name": "stdout",
     "output_type": "stream",
     "text": [
      "[[0 1 2]\n",
      " [3 4 5]\n",
      " [6 7 8]]\n"
     ]
    }
   ],
   "source": [
    "print(a)"
   ]
  },
  {
   "cell_type": "code",
   "execution_count": 13,
   "id": "fa058c32-b6f1-4c5c-a979-63f451f819d0",
   "metadata": {},
   "outputs": [
    {
     "data": {
      "text/plain": [
       "(array([0, 0, 0, 1, 1]), array([0, 1, 2, 0, 1]))"
      ]
     },
     "execution_count": 13,
     "metadata": {},
     "output_type": "execute_result"
    }
   ],
   "source": [
    "np.where(a<5) #the output is the coordinates , like 0,1 0,2 0,3, it means 1, 2, 3"
   ]
  },
  {
   "cell_type": "code",
   "execution_count": 2,
   "id": "ae145a43-ebff-4c3c-9df7-22d05468d934",
   "metadata": {},
   "outputs": [],
   "source": [
    "import numpy as np"
   ]
  },
  {
   "cell_type": "code",
   "execution_count": 4,
   "id": "0e042b63-9de6-4812-8b8f-7f97c61ede55",
   "metadata": {},
   "outputs": [
    {
     "name": "stdout",
     "output_type": "stream",
     "text": [
      "[0.         0.78539816 1.57079633 2.35619449 3.14159265]\n"
     ]
    }
   ],
   "source": [
    "x = np.linspace(0.0, np.pi, 5)\n",
    "print(x)"
   ]
  },
  {
   "cell_type": "code",
   "execution_count": 5,
   "id": "65034285-aeb7-4d10-bb34-a5818ddb78b7",
   "metadata": {},
   "outputs": [
    {
     "data": {
      "text/plain": [
       "array([0.00000000e+00, 7.07106781e-01, 1.00000000e+00, 7.07106781e-01,\n",
       "       1.22464680e-16])"
      ]
     },
     "execution_count": 5,
     "metadata": {},
     "output_type": "execute_result"
    }
   ],
   "source": [
    "np.sin(x)"
   ]
  },
  {
   "cell_type": "code",
   "execution_count": null,
   "id": "3c6ee1a7-0da0-4c37-8683-3e8f739dd762",
   "metadata": {},
   "outputs": [],
   "source": []
  },
  {
   "cell_type": "code",
   "execution_count": 2,
   "id": "9e325a0b-3fdd-42e3-9912-7de6e796f2cd",
   "metadata": {},
   "outputs": [
    {
     "data": {
      "image/png": "[encoded data removed]",
      "text/plain": [
       "<Figure size 640x480 with 2 Axes>"
      ]
     },
     "metadata": {},
     "output_type": "display_data"
    }
   ],
   "source": [
    "import numpy as np\n",
    "import cv2\n",
    "import matplotlib.pyplot as plt\n",
    "\n",
    "# Create a 5x5 grayscale image (values between 0-255)\n",
    "array = np.array([\n",
    "    [0, 50, 100, 150],\n",
    "    [50, 100, 150, 200],\n",
    "    [100, 150, 200, 250],\n",
    "    [150, 200, 250, 255]\n",
    "], dtype=np.uint8)  # Data type should be uint8 for images\n",
    "\n",
    "# Display the image using OpenCV\n",
    "cv2.imshow(\"Grayscale Image\", array)\n",
    "cv2.waitKey(0)\n",
    "cv2.destroyAllWindows()\n",
    "\n",
    "# Display the image using Matplotlib\n",
    "plt.imshow(array, cmap='gray', vmin=0, vmax=255)\n",
    "plt.colorbar()  # Show color scale\n",
    "plt.show()"
   ]
  },
  {
   "cell_type": "code",
   "execution_count": null,
   "id": "e0b21939-ae0a-4a75-8fc1-fe57f574abfb",
   "metadata": {},
   "outputs": [],
   "source": [
    "import numpy as np\n",
    "import cv2\n",
    "import matplotlib.pyplot as plt\n",
    "\n",
    "# Create a 5x5 RGB image (Each pixel has 3 values: [R, G, B])\n",
    "array = np.array([\n",
    "    [[255, 0, 0], [0, 255, 0], [0, 0, 255], [255, 255, 0]],  # Row 1\n",
    "    [[0, 255, 255], [128, 128, 128], [255, 128, 0], [0, 128, 255]],  # Row 2\n",
    "    [[255, 128, 128], [128, 255, 128], [128, 128, 255], [255, 255, 128]],  # Row 3\n",
    "    [[255, 0, 128], [0, 255, 128], [128, 0, 255], [255, 128, 0]],  # Row 4\n",
    "    [[128, 128, 0], [0, 128, 128], [128, 0, 128], [64, 64, 64]] # Row 5\n",
    "], dtype=np.uint8)  # uint8 is needed for image data\n",
    "\n",
    "# OpenCV uses BGR format, so we need to convert RGB to BGR\n",
    "array_bgr = cv2.cvtColor(array, cv2.COLOR_RGB2BGR)\n",
    "\n",
    "# Display using OpenCV\n",
    "cv2.imshow(\"RGB Image\", array_bgr)\n",
    "cv2.waitKey(0)\n",
    "cv2.destroyAllWindows()\n",
    "\n",
    "# Display using Matplotlib (Matplotlib uses RGB, so no need to convert)\n",
    "plt.imshow(array)\n",
    "plt.title(\"RGB Image\")\n",
    "plt.show()"
   ]
  },
  {
   "cell_type": "code",
   "execution_count": null,
   "id": "98db7990-7f0f-4547-b409-0307f595caa5",
   "metadata": {},
   "outputs": [],
   "source": []
  }
 ],
 "metadata": {
  "kernelspec": {
   "display_name": "Python 3 (ipykernel)",
   "language": "python",
   "name": "python3"
  },
  "language_info": {
   "codemirror_mode": {
    "name": "ipython",
    "version": 3
   },
   "file_extension": ".py",
   "mimetype": "text/x-python",
   "name": "python",
   "nbconvert_exporter": "python",
   "pygments_lexer": "ipython3",
   "version": "3.13.1"
  }
 },
 "nbformat": 4,
 "nbformat_minor": 5
}
